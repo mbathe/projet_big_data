{
 "cells": [
  {
   "cell_type": "code",
   "execution_count": 5,
   "id": "c4450bf8-48d6-4e75-9202-a3b1e1d1778c",
   "metadata": {},
   "outputs": [],
   "source": [
    "import pandas as pd\n",
    "import numpy as np\n",
    "import matplotlib.pyplot as plt\n",
    "from src.utils.helper_data import load_dataset\n",
    "from dotenv import load_dotenv\n",
    "load_dotenv()\n",
    "import os"
   ]
  },
  {
   "cell_type": "code",
   "execution_count": 6,
   "id": "1d51ef40-7baf-45f7-bfdd-6c35c8e098b7",
   "metadata": {},
   "outputs": [],
   "source": [
    "data = load_dataset(all_contents=True, dir_name=os.getenv(\"DIR_DATASET\"))"
   ]
  },
  {
   "cell_type": "code",
   "execution_count": 7,
   "id": "b481e5c8-f248-4518-a35c-718a9649a2c0",
   "metadata": {},
   "outputs": [
    {
     "data": {
      "text/plain": [
       "dict_keys(['interactions_test', 'interactions_train', 'interactions_validation', 'PP_recipes', 'PP_users', 'RAW_interactions', 'RAW_recipes'])"
      ]
     },
     "execution_count": 7,
     "metadata": {},
     "output_type": "execute_result"
    }
   ],
   "source": [
    "data.keys()"
   ]
  },
  {
   "cell_type": "code",
   "execution_count": 11,
   "id": "68ee3902-1990-43b8-af31-2ea50d7019fc",
   "metadata": {},
   "outputs": [],
   "source": [
    "raw_interactions = data[\"RAW_interactions\"]\n",
    "raw_recipes =data[\"RAW_recipes\"]\n",
    "pp_users = data[\"PP_users\"]\n",
    "interactions_validation = data[\"interactions_validation\"]"
   ]
  },
  {
   "cell_type": "code",
   "execution_count": 12,
   "id": "a11479ff-3e27-48a9-bfe6-a511642c57d4",
   "metadata": {},
   "outputs": [
    {
     "data": {
      "text/html": [
       "<div>\n",
       "<style scoped>\n",
       "    .dataframe tbody tr th:only-of-type {\n",
       "        vertical-align: middle;\n",
       "    }\n",
       "\n",
       "    .dataframe tbody tr th {\n",
       "        vertical-align: top;\n",
       "    }\n",
       "\n",
       "    .dataframe thead th {\n",
       "        text-align: right;\n",
       "    }\n",
       "</style>\n",
       "<table border=\"1\" class=\"dataframe\">\n",
       "  <thead>\n",
       "    <tr style=\"text-align: right;\">\n",
       "      <th></th>\n",
       "      <th>user_id</th>\n",
       "      <th>recipe_id</th>\n",
       "      <th>date</th>\n",
       "      <th>rating</th>\n",
       "      <th>u</th>\n",
       "      <th>i</th>\n",
       "    </tr>\n",
       "  </thead>\n",
       "  <tbody>\n",
       "    <tr>\n",
       "      <th>0</th>\n",
       "      <td>76535</td>\n",
       "      <td>33627</td>\n",
       "      <td>2005-02-15</td>\n",
       "      <td>4.0</td>\n",
       "      <td>5</td>\n",
       "      <td>177317</td>\n",
       "    </tr>\n",
       "    <tr>\n",
       "      <th>1</th>\n",
       "      <td>160497</td>\n",
       "      <td>75307</td>\n",
       "      <td>2005-10-24</td>\n",
       "      <td>4.0</td>\n",
       "      <td>23</td>\n",
       "      <td>170785</td>\n",
       "    </tr>\n",
       "    <tr>\n",
       "      <th>2</th>\n",
       "      <td>930021</td>\n",
       "      <td>100961</td>\n",
       "      <td>2008-11-30</td>\n",
       "      <td>4.0</td>\n",
       "      <td>31</td>\n",
       "      <td>165555</td>\n",
       "    </tr>\n",
       "    <tr>\n",
       "      <th>3</th>\n",
       "      <td>58439</td>\n",
       "      <td>154105</td>\n",
       "      <td>2007-03-24</td>\n",
       "      <td>4.0</td>\n",
       "      <td>44</td>\n",
       "      <td>177453</td>\n",
       "    </tr>\n",
       "    <tr>\n",
       "      <th>4</th>\n",
       "      <td>628951</td>\n",
       "      <td>14525</td>\n",
       "      <td>2008-02-16</td>\n",
       "      <td>5.0</td>\n",
       "      <td>45</td>\n",
       "      <td>142367</td>\n",
       "    </tr>\n",
       "  </tbody>\n",
       "</table>\n",
       "</div>"
      ],
      "text/plain": [
       "   user_id  recipe_id        date  rating   u       i\n",
       "0    76535      33627  2005-02-15     4.0   5  177317\n",
       "1   160497      75307  2005-10-24     4.0  23  170785\n",
       "2   930021     100961  2008-11-30     4.0  31  165555\n",
       "3    58439     154105  2007-03-24     4.0  44  177453\n",
       "4   628951      14525  2008-02-16     5.0  45  142367"
      ]
     },
     "execution_count": 12,
     "metadata": {},
     "output_type": "execute_result"
    }
   ],
   "source": [
    "interactions_validation.head()"
   ]
  },
  {
   "cell_type": "code",
   "execution_count": null,
   "id": "19186cb9-71a5-4a08-8e47-9e0913bb13cc",
   "metadata": {},
   "outputs": [],
   "source": []
  }
 ],
 "metadata": {
  "kernelspec": {
   "display_name": "Python 3 (ipykernel)",
   "language": "python",
   "name": "python3"
  },
  "language_info": {
   "codemirror_mode": {
    "name": "ipython",
    "version": 3
   },
   "file_extension": ".py",
   "mimetype": "text/x-python",
   "name": "python",
   "nbconvert_exporter": "python",
   "pygments_lexer": "ipython3",
   "version": "3.11.5"
  }
 },
 "nbformat": 4,
 "nbformat_minor": 5
}
