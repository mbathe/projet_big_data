<<<<<<< HEAD
{
 "cells": [
  {
   "cell_type": "code",
   "execution_count": 2,
   "metadata": {},
   "outputs": [],
   "source": [
    "import matplotlib.pyplot as plt\n",
    "import numpy as np\n",
    "import seaborn as sns\n",
    "import pandas as pd\n",
    "from utils.helper_data import load_dataset\n",
    "from dotenv import load_dotenv\n",
    "import os\n",
    "load_dotenv()"
   ]
  },
  {
   "cell_type": "code",
   "execution_count": 3,
   "metadata": {},
   "outputs": [
    {
     "data": {
      "text/plain": [
       "dict_keys(['interactions_test', 'interactions_train', 'interactions_validation', 'PP_recipes', 'PP_users', 'RAW_interactions', 'RAW_recipes'])"
      ]
     },
     "execution_count": 3,
     "metadata": {},
     "output_type": "execute_result"
    }
   ],
   "source": [
    "data = load_dataset(os.getenv(\"DIR_DATASET\"))\n",
    "data.keys()"
   ]
  },
  {
   "cell_type": "markdown",
   "metadata": {},
   "source": [
    "Chargement des dataset des interactions et des utilisateurs\n"
   ]
  },
  {
   "cell_type": "code",
   "execution_count": 4,
   "metadata": {},
   "outputs": [],
   "source": [
    "raw_interactions = data[\"RAW_interactions\"]\n",
    "pp_users = data[\"PP_users\"]"
   ]
  },
  {
   "cell_type": "code",
   "execution_count": 5,
   "metadata": {},
   "outputs": [
    {
     "data": {
      "text/html": [
       "<div>\n",
       "<style scoped>\n",
       "    .dataframe tbody tr th:only-of-type {\n",
       "        vertical-align: middle;\n",
       "    }\n",
       "\n",
       "    .dataframe tbody tr th {\n",
       "        vertical-align: top;\n",
       "    }\n",
       "\n",
       "    .dataframe thead th {\n",
       "        text-align: right;\n",
       "    }\n",
       "</style>\n",
       "<table border=\"1\" class=\"dataframe\">\n",
       "  <thead>\n",
       "    <tr style=\"text-align: right;\">\n",
       "      <th></th>\n",
       "      <th>user_id</th>\n",
       "      <th>recipe_id</th>\n",
       "      <th>rating</th>\n",
       "    </tr>\n",
       "  </thead>\n",
       "  <tbody>\n",
       "    <tr>\n",
       "      <th>count</th>\n",
       "      <td>1.132367e+06</td>\n",
       "      <td>1.132367e+06</td>\n",
       "      <td>1.132367e+06</td>\n",
       "    </tr>\n",
       "    <tr>\n",
       "      <th>mean</th>\n",
       "      <td>1.384291e+08</td>\n",
       "      <td>1.608972e+05</td>\n",
       "      <td>4.411016e+00</td>\n",
       "    </tr>\n",
       "    <tr>\n",
       "      <th>std</th>\n",
       "      <td>5.014269e+08</td>\n",
       "      <td>1.303987e+05</td>\n",
       "      <td>1.264752e+00</td>\n",
       "    </tr>\n",
       "    <tr>\n",
       "      <th>min</th>\n",
       "      <td>1.533000e+03</td>\n",
       "      <td>3.800000e+01</td>\n",
       "      <td>0.000000e+00</td>\n",
       "    </tr>\n",
       "    <tr>\n",
       "      <th>25%</th>\n",
       "      <td>1.354700e+05</td>\n",
       "      <td>5.425700e+04</td>\n",
       "      <td>4.000000e+00</td>\n",
       "    </tr>\n",
       "    <tr>\n",
       "      <th>50%</th>\n",
       "      <td>3.309370e+05</td>\n",
       "      <td>1.205470e+05</td>\n",
       "      <td>5.000000e+00</td>\n",
       "    </tr>\n",
       "    <tr>\n",
       "      <th>75%</th>\n",
       "      <td>8.045500e+05</td>\n",
       "      <td>2.438520e+05</td>\n",
       "      <td>5.000000e+00</td>\n",
       "    </tr>\n",
       "    <tr>\n",
       "      <th>max</th>\n",
       "      <td>2.002373e+09</td>\n",
       "      <td>5.377160e+05</td>\n",
       "      <td>5.000000e+00</td>\n",
       "    </tr>\n",
       "  </tbody>\n",
       "</table>\n",
       "</div>"
      ],
      "text/plain": [
       "            user_id     recipe_id        rating\n",
       "count  1.132367e+06  1.132367e+06  1.132367e+06\n",
       "mean   1.384291e+08  1.608972e+05  4.411016e+00\n",
       "std    5.014269e+08  1.303987e+05  1.264752e+00\n",
       "min    1.533000e+03  3.800000e+01  0.000000e+00\n",
       "25%    1.354700e+05  5.425700e+04  4.000000e+00\n",
       "50%    3.309370e+05  1.205470e+05  5.000000e+00\n",
       "75%    8.045500e+05  2.438520e+05  5.000000e+00\n",
       "max    2.002373e+09  5.377160e+05  5.000000e+00"
      ]
     },
     "execution_count": 5,
     "metadata": {},
     "output_type": "execute_result"
    }
   ],
   "source": [
    "raw_interactions.describe()"
   ]
  },
  {
   "cell_type": "code",
   "execution_count": 6,
   "metadata": {},
   "outputs": [
    {
     "data": {
      "text/html": [
       "<div>\n",
       "<style scoped>\n",
       "    .dataframe tbody tr th:only-of-type {\n",
       "        vertical-align: middle;\n",
       "    }\n",
       "\n",
       "    .dataframe tbody tr th {\n",
       "        vertical-align: top;\n",
       "    }\n",
       "\n",
       "    .dataframe thead th {\n",
       "        text-align: right;\n",
       "    }\n",
       "</style>\n",
       "<table border=\"1\" class=\"dataframe\">\n",
       "  <thead>\n",
       "    <tr style=\"text-align: right;\">\n",
       "      <th></th>\n",
       "      <th>u</th>\n",
       "      <th>n_items</th>\n",
       "      <th>n_ratings</th>\n",
       "    </tr>\n",
       "  </thead>\n",
       "  <tbody>\n",
       "    <tr>\n",
       "      <th>count</th>\n",
       "      <td>25076.000000</td>\n",
       "      <td>25076.000000</td>\n",
       "      <td>25076.000000</td>\n",
       "    </tr>\n",
       "    <tr>\n",
       "      <th>mean</th>\n",
       "      <td>12537.500000</td>\n",
       "      <td>27.871311</td>\n",
       "      <td>27.871311</td>\n",
       "    </tr>\n",
       "    <tr>\n",
       "      <th>std</th>\n",
       "      <td>7238.962011</td>\n",
       "      <td>122.729039</td>\n",
       "      <td>122.729039</td>\n",
       "    </tr>\n",
       "    <tr>\n",
       "      <th>min</th>\n",
       "      <td>0.000000</td>\n",
       "      <td>2.000000</td>\n",
       "      <td>2.000000</td>\n",
       "    </tr>\n",
       "    <tr>\n",
       "      <th>25%</th>\n",
       "      <td>6268.750000</td>\n",
       "      <td>3.000000</td>\n",
       "      <td>3.000000</td>\n",
       "    </tr>\n",
       "    <tr>\n",
       "      <th>50%</th>\n",
       "      <td>12537.500000</td>\n",
       "      <td>6.000000</td>\n",
       "      <td>6.000000</td>\n",
       "    </tr>\n",
       "    <tr>\n",
       "      <th>75%</th>\n",
       "      <td>18806.250000</td>\n",
       "      <td>16.000000</td>\n",
       "      <td>16.000000</td>\n",
       "    </tr>\n",
       "    <tr>\n",
       "      <th>max</th>\n",
       "      <td>25075.000000</td>\n",
       "      <td>6437.000000</td>\n",
       "      <td>6437.000000</td>\n",
       "    </tr>\n",
       "  </tbody>\n",
       "</table>\n",
       "</div>"
      ],
      "text/plain": [
       "                  u       n_items     n_ratings\n",
       "count  25076.000000  25076.000000  25076.000000\n",
       "mean   12537.500000     27.871311     27.871311\n",
       "std     7238.962011    122.729039    122.729039\n",
       "min        0.000000      2.000000      2.000000\n",
       "25%     6268.750000      3.000000      3.000000\n",
       "50%    12537.500000      6.000000      6.000000\n",
       "75%    18806.250000     16.000000     16.000000\n",
       "max    25075.000000   6437.000000   6437.000000"
      ]
     },
     "execution_count": 6,
     "metadata": {},
     "output_type": "execute_result"
    }
   ],
   "source": [
    "pp_users.describe()"
   ]
  },
  {
   "cell_type": "code",
   "execution_count": 7,
   "metadata": {},
   "outputs": [
    {
     "data": {
      "text/html": [
       "<div>\n",
       "<style scoped>\n",
       "    .dataframe tbody tr th:only-of-type {\n",
       "        vertical-align: middle;\n",
       "    }\n",
       "\n",
       "    .dataframe tbody tr th {\n",
       "        vertical-align: top;\n",
       "    }\n",
       "\n",
       "    .dataframe thead th {\n",
       "        text-align: right;\n",
       "    }\n",
       "</style>\n",
       "<table border=\"1\" class=\"dataframe\">\n",
       "  <thead>\n",
       "    <tr style=\"text-align: right;\">\n",
       "      <th></th>\n",
       "      <th>user_id</th>\n",
       "      <th>recipe_id</th>\n",
       "      <th>date</th>\n",
       "      <th>rating</th>\n",
       "      <th>review</th>\n",
       "    </tr>\n",
       "  </thead>\n",
       "  <tbody>\n",
       "    <tr>\n",
       "      <th>0</th>\n",
       "      <td>38094</td>\n",
       "      <td>40893</td>\n",
       "      <td>2003-02-17</td>\n",
       "      <td>4</td>\n",
       "      <td>Great with a salad. Cooked on top of stove for...</td>\n",
       "    </tr>\n",
       "    <tr>\n",
       "      <th>1</th>\n",
       "      <td>1293707</td>\n",
       "      <td>40893</td>\n",
       "      <td>2011-12-21</td>\n",
       "      <td>5</td>\n",
       "      <td>So simple, so delicious! Great for chilly fall...</td>\n",
       "    </tr>\n",
       "    <tr>\n",
       "      <th>2</th>\n",
       "      <td>8937</td>\n",
       "      <td>44394</td>\n",
       "      <td>2002-12-01</td>\n",
       "      <td>4</td>\n",
       "      <td>This worked very well and is EASY.  I used not...</td>\n",
       "    </tr>\n",
       "    <tr>\n",
       "      <th>3</th>\n",
       "      <td>126440</td>\n",
       "      <td>85009</td>\n",
       "      <td>2010-02-27</td>\n",
       "      <td>5</td>\n",
       "      <td>I made the Mexican topping and took it to bunk...</td>\n",
       "    </tr>\n",
       "    <tr>\n",
       "      <th>4</th>\n",
       "      <td>57222</td>\n",
       "      <td>85009</td>\n",
       "      <td>2011-10-01</td>\n",
       "      <td>5</td>\n",
       "      <td>Made the cheddar bacon topping, adding a sprin...</td>\n",
       "    </tr>\n",
       "  </tbody>\n",
       "</table>\n",
       "</div>"
      ],
      "text/plain": [
       "   user_id  recipe_id        date  rating  \\\n",
       "0    38094      40893  2003-02-17       4   \n",
       "1  1293707      40893  2011-12-21       5   \n",
       "2     8937      44394  2002-12-01       4   \n",
       "3   126440      85009  2010-02-27       5   \n",
       "4    57222      85009  2011-10-01       5   \n",
       "\n",
       "                                              review  \n",
       "0  Great with a salad. Cooked on top of stove for...  \n",
       "1  So simple, so delicious! Great for chilly fall...  \n",
       "2  This worked very well and is EASY.  I used not...  \n",
       "3  I made the Mexican topping and took it to bunk...  \n",
       "4  Made the cheddar bacon topping, adding a sprin...  "
      ]
     },
     "execution_count": 7,
     "metadata": {},
     "output_type": "execute_result"
    }
   ],
   "source": [
    "raw_interactions.head(5)"
   ]
  },
  {
   "cell_type": "code",
   "execution_count": 9,
   "metadata": {},
   "outputs": [
    {
     "data": {
      "text/html": [
       "<div>\n",
       "<style scoped>\n",
       "    .dataframe tbody tr th:only-of-type {\n",
       "        vertical-align: middle;\n",
       "    }\n",
       "\n",
       "    .dataframe tbody tr th {\n",
       "        vertical-align: top;\n",
       "    }\n",
       "\n",
       "    .dataframe thead th {\n",
       "        text-align: right;\n",
       "    }\n",
       "</style>\n",
       "<table border=\"1\" class=\"dataframe\">\n",
       "  <thead>\n",
       "    <tr style=\"text-align: right;\">\n",
       "      <th></th>\n",
       "      <th>u</th>\n",
       "      <th>techniques</th>\n",
       "      <th>items</th>\n",
       "      <th>n_items</th>\n",
       "      <th>ratings</th>\n",
       "      <th>n_ratings</th>\n",
       "    </tr>\n",
       "  </thead>\n",
       "  <tbody>\n",
       "    <tr>\n",
       "      <th>0</th>\n",
       "      <td>0</td>\n",
       "      <td>[8, 0, 0, 5, 6, 0, 0, 1, 0, 9, 1, 0, 0, 0, 1, ...</td>\n",
       "      <td>[1118, 27680, 32541, 137353, 16428, 28815, 658...</td>\n",
       "      <td>31</td>\n",
       "      <td>[5.0, 5.0, 5.0, 5.0, 5.0, 5.0, 5.0, 4.0, 4.0, ...</td>\n",
       "      <td>31</td>\n",
       "    </tr>\n",
       "    <tr>\n",
       "      <th>1</th>\n",
       "      <td>1</td>\n",
       "      <td>[11, 0, 0, 2, 12, 0, 0, 0, 0, 14, 5, 0, 0, 0, ...</td>\n",
       "      <td>[122140, 77036, 156817, 76957, 68818, 155600, ...</td>\n",
       "      <td>39</td>\n",
       "      <td>[5.0, 5.0, 5.0, 5.0, 5.0, 5.0, 5.0, 5.0, 5.0, ...</td>\n",
       "      <td>39</td>\n",
       "    </tr>\n",
       "    <tr>\n",
       "      <th>2</th>\n",
       "      <td>2</td>\n",
       "      <td>[13, 0, 0, 7, 5, 0, 1, 2, 1, 11, 0, 1, 0, 0, 1...</td>\n",
       "      <td>[168054, 87218, 35731, 1, 20475, 9039, 124834,...</td>\n",
       "      <td>27</td>\n",
       "      <td>[3.0, 4.0, 4.0, 4.0, 4.0, 4.0, 4.0, 4.0, 5.0, ...</td>\n",
       "      <td>27</td>\n",
       "    </tr>\n",
       "    <tr>\n",
       "      <th>3</th>\n",
       "      <td>3</td>\n",
       "      <td>[498, 13, 4, 218, 376, 3, 2, 33, 16, 591, 10, ...</td>\n",
       "      <td>[163193, 156352, 102888, 19914, 169438, 55772,...</td>\n",
       "      <td>1513</td>\n",
       "      <td>[5.0, 5.0, 5.0, 5.0, 4.0, 4.0, 5.0, 5.0, 5.0, ...</td>\n",
       "      <td>1513</td>\n",
       "    </tr>\n",
       "    <tr>\n",
       "      <th>4</th>\n",
       "      <td>4</td>\n",
       "      <td>[161, 1, 1, 86, 93, 0, 0, 11, 2, 141, 0, 16, 0...</td>\n",
       "      <td>[72857, 38652, 160427, 55772, 119999, 141777, ...</td>\n",
       "      <td>376</td>\n",
       "      <td>[5.0, 5.0, 5.0, 5.0, 4.0, 4.0, 5.0, 4.0, 5.0, ...</td>\n",
       "      <td>376</td>\n",
       "    </tr>\n",
       "  </tbody>\n",
       "</table>\n",
       "</div>"
      ],
      "text/plain": [
       "   u                                         techniques  \\\n",
       "0  0  [8, 0, 0, 5, 6, 0, 0, 1, 0, 9, 1, 0, 0, 0, 1, ...   \n",
       "1  1  [11, 0, 0, 2, 12, 0, 0, 0, 0, 14, 5, 0, 0, 0, ...   \n",
       "2  2  [13, 0, 0, 7, 5, 0, 1, 2, 1, 11, 0, 1, 0, 0, 1...   \n",
       "3  3  [498, 13, 4, 218, 376, 3, 2, 33, 16, 591, 10, ...   \n",
       "4  4  [161, 1, 1, 86, 93, 0, 0, 11, 2, 141, 0, 16, 0...   \n",
       "\n",
       "                                               items  n_items  \\\n",
       "0  [1118, 27680, 32541, 137353, 16428, 28815, 658...       31   \n",
       "1  [122140, 77036, 156817, 76957, 68818, 155600, ...       39   \n",
       "2  [168054, 87218, 35731, 1, 20475, 9039, 124834,...       27   \n",
       "3  [163193, 156352, 102888, 19914, 169438, 55772,...     1513   \n",
       "4  [72857, 38652, 160427, 55772, 119999, 141777, ...      376   \n",
       "\n",
       "                                             ratings  n_ratings  \n",
       "0  [5.0, 5.0, 5.0, 5.0, 5.0, 5.0, 5.0, 4.0, 4.0, ...         31  \n",
       "1  [5.0, 5.0, 5.0, 5.0, 5.0, 5.0, 5.0, 5.0, 5.0, ...         39  \n",
       "2  [3.0, 4.0, 4.0, 4.0, 4.0, 4.0, 4.0, 4.0, 5.0, ...         27  \n",
       "3  [5.0, 5.0, 5.0, 5.0, 4.0, 4.0, 5.0, 5.0, 5.0, ...       1513  \n",
       "4  [5.0, 5.0, 5.0, 5.0, 4.0, 4.0, 5.0, 4.0, 5.0, ...        376  "
      ]
     },
     "execution_count": 9,
     "metadata": {},
     "output_type": "execute_result"
    }
   ],
   "source": [
    "pp_users.head(5)"
   ]
  },
  {
   "cell_type": "markdown",
   "metadata": {},
   "source": [
    "1. Traitement des données\n",
    "   Traitement des valeurs manquantes dans le Dataframe pp_users et intracttions\n"
   ]
  },
  {
   "cell_type": "code",
   "execution_count": 10,
   "metadata": {},
   "outputs": [
    {
     "name": "stdout",
     "output_type": "stream",
     "text": [
      "Le nombre de lignes avec des valeurs manquantes dans le Dataframe pp_users est : 0\n",
      "Nombre de ligne avec les valeurs manquantes dans le Dataframe interactions 169\n"
     ]
    }
   ],
   "source": [
    "# Liste des lignes avec les valeurs null\n",
    "\n",
    "null_pp_users = pp_users[pp_users.isnull().any(axis=1)]\n",
    "null_interactions = raw_interactions[raw_interactions.isnull().any(axis=1)]\n",
    "print(\n",
    "    f\"Le nombre de lignes avec des valeurs manquantes dans le Dataframe pp_users est : {null_pp_users.shape[0]}\")\n",
    "print(\n",
    "    f\"Nombre de ligne avec les valeurs manquantes dans le Dataframe interactions {null_interactions.shape[0]}\")"
   ]
  },
  {
   "cell_type": "code",
   "execution_count": 11,
   "metadata": {},
   "outputs": [
    {
     "data": {
      "text/plain": [
       "u             0\n",
       "techniques    0\n",
       "items         0\n",
       "n_items       0\n",
       "ratings       0\n",
       "n_ratings     0\n",
       "dtype: int64"
      ]
     },
     "execution_count": 11,
     "metadata": {},
     "output_type": "execute_result"
    }
   ],
   "source": [
    "null_pp_users.isna().count()"
   ]
  },
  {
   "cell_type": "code",
   "execution_count": 12,
   "metadata": {},
   "outputs": [
    {
     "data": {
      "text/plain": [
       "user_id      169\n",
       "recipe_id    169\n",
       "date         169\n",
       "rating       169\n",
       "review       169\n",
       "dtype: int64"
      ]
     },
     "execution_count": 12,
     "metadata": {},
     "output_type": "execute_result"
    }
   ],
   "source": [
    "null_interactions.isna().count()"
   ]
  },
  {
   "cell_type": "code",
   "execution_count": 13,
   "metadata": {},
   "outputs": [
    {
     "data": {
      "text/plain": [
       "((1132198, 5), (25076, 6))"
      ]
     },
     "execution_count": 13,
     "metadata": {},
     "output_type": "execute_result"
    }
   ],
   "source": [
    "# Suppression des valeurs manquantes dans les DataFrame interactions et pp_users\n",
    "\n",
    "raw_interactions.dropna(inplace=True)\n",
    "pp_users.dropna(inplace=True)\n",
    "raw_interactions.shape, pp_users.shape"
   ]
  },
  {
   "cell_type": "code",
   "execution_count": 14,
   "metadata": {},
   "outputs": [
    {
     "data": {
      "text/html": [
       "<div>\n",
       "<style scoped>\n",
       "    .dataframe tbody tr th:only-of-type {\n",
       "        vertical-align: middle;\n",
       "    }\n",
       "\n",
       "    .dataframe tbody tr th {\n",
       "        vertical-align: top;\n",
       "    }\n",
       "\n",
       "    .dataframe thead th {\n",
       "        text-align: right;\n",
       "    }\n",
       "</style>\n",
       "<table border=\"1\" class=\"dataframe\">\n",
       "  <thead>\n",
       "    <tr style=\"text-align: right;\">\n",
       "      <th></th>\n",
       "      <th>user_id</th>\n",
       "      <th>recipe_id</th>\n",
       "      <th>date</th>\n",
       "      <th>rating</th>\n",
       "      <th>review</th>\n",
       "      <th>mois</th>\n",
       "      <th>jour</th>\n",
       "      <th>annee</th>\n",
       "    </tr>\n",
       "  </thead>\n",
       "  <tbody>\n",
       "    <tr>\n",
       "      <th>0</th>\n",
       "      <td>38094</td>\n",
       "      <td>40893</td>\n",
       "      <td>2003-02-17</td>\n",
       "      <td>4</td>\n",
       "      <td>Great with a salad. Cooked on top of stove for...</td>\n",
       "      <td>2</td>\n",
       "      <td>17</td>\n",
       "      <td>2003</td>\n",
       "    </tr>\n",
       "    <tr>\n",
       "      <th>1</th>\n",
       "      <td>1293707</td>\n",
       "      <td>40893</td>\n",
       "      <td>2011-12-21</td>\n",
       "      <td>5</td>\n",
       "      <td>So simple, so delicious! Great for chilly fall...</td>\n",
       "      <td>12</td>\n",
       "      <td>21</td>\n",
       "      <td>2011</td>\n",
       "    </tr>\n",
       "    <tr>\n",
       "      <th>2</th>\n",
       "      <td>8937</td>\n",
       "      <td>44394</td>\n",
       "      <td>2002-12-01</td>\n",
       "      <td>4</td>\n",
       "      <td>This worked very well and is EASY.  I used not...</td>\n",
       "      <td>12</td>\n",
       "      <td>1</td>\n",
       "      <td>2002</td>\n",
       "    </tr>\n",
       "    <tr>\n",
       "      <th>3</th>\n",
       "      <td>126440</td>\n",
       "      <td>85009</td>\n",
       "      <td>2010-02-27</td>\n",
       "      <td>5</td>\n",
       "      <td>I made the Mexican topping and took it to bunk...</td>\n",
       "      <td>2</td>\n",
       "      <td>27</td>\n",
       "      <td>2010</td>\n",
       "    </tr>\n",
       "    <tr>\n",
       "      <th>4</th>\n",
       "      <td>57222</td>\n",
       "      <td>85009</td>\n",
       "      <td>2011-10-01</td>\n",
       "      <td>5</td>\n",
       "      <td>Made the cheddar bacon topping, adding a sprin...</td>\n",
       "      <td>10</td>\n",
       "      <td>1</td>\n",
       "      <td>2011</td>\n",
       "    </tr>\n",
       "  </tbody>\n",
       "</table>\n",
       "</div>"
      ],
      "text/plain": [
       "   user_id  recipe_id       date  rating  \\\n",
       "0    38094      40893 2003-02-17       4   \n",
       "1  1293707      40893 2011-12-21       5   \n",
       "2     8937      44394 2002-12-01       4   \n",
       "3   126440      85009 2010-02-27       5   \n",
       "4    57222      85009 2011-10-01       5   \n",
       "\n",
       "                                              review  mois  jour  annee  \n",
       "0  Great with a salad. Cooked on top of stove for...     2    17   2003  \n",
       "1  So simple, so delicious! Great for chilly fall...    12    21   2011  \n",
       "2  This worked very well and is EASY.  I used not...    12     1   2002  \n",
       "3  I made the Mexican topping and took it to bunk...     2    27   2010  \n",
       "4  Made the cheddar bacon topping, adding a sprin...    10     1   2011  "
      ]
     },
     "execution_count": 14,
     "metadata": {},
     "output_type": "execute_result"
    }
   ],
   "source": [
    "raw_interactions[\"date\"] = pd.to_datetime(raw_interactions[\"date\"])\n",
    "# Création d'une colonne mois, jour et annee dans le dataframe\n",
    "\n",
    "raw_interactions[\"mois\"] = raw_interactions[\"date\"].dt.month\n",
    "raw_interactions[\"jour\"] = raw_interactions[\"date\"].dt.day\n",
    "raw_interactions[\"annee\"] = raw_interactions[\"date\"].dt.year\n",
    "raw_interactions.head()"
   ]
  },
  {
   "cell_type": "code",
   "execution_count": 15,
   "metadata": {},
   "outputs": [
    {
     "data": {
      "text/html": [
       "<div>\n",
       "<style scoped>\n",
       "    .dataframe tbody tr th:only-of-type {\n",
       "        vertical-align: middle;\n",
       "    }\n",
       "\n",
       "    .dataframe tbody tr th {\n",
       "        vertical-align: top;\n",
       "    }\n",
       "\n",
       "    .dataframe thead th {\n",
       "        text-align: right;\n",
       "    }\n",
       "</style>\n",
       "<table border=\"1\" class=\"dataframe\">\n",
       "  <thead>\n",
       "    <tr style=\"text-align: right;\">\n",
       "      <th></th>\n",
       "      <th>total_bill</th>\n",
       "      <th>tip</th>\n",
       "      <th>sex</th>\n",
       "      <th>smoker</th>\n",
       "      <th>day</th>\n",
       "      <th>time</th>\n",
       "      <th>size</th>\n",
       "    </tr>\n",
       "  </thead>\n",
       "  <tbody>\n",
       "    <tr>\n",
       "      <th>0</th>\n",
       "      <td>16.99</td>\n",
       "      <td>1.01</td>\n",
       "      <td>Female</td>\n",
       "      <td>No</td>\n",
       "      <td>Sun</td>\n",
       "      <td>Dinner</td>\n",
       "      <td>2</td>\n",
       "    </tr>\n",
       "    <tr>\n",
       "      <th>1</th>\n",
       "      <td>10.34</td>\n",
       "      <td>1.66</td>\n",
       "      <td>Male</td>\n",
       "      <td>No</td>\n",
       "      <td>Sun</td>\n",
       "      <td>Dinner</td>\n",
       "      <td>3</td>\n",
       "    </tr>\n",
       "    <tr>\n",
       "      <th>2</th>\n",
       "      <td>21.01</td>\n",
       "      <td>3.50</td>\n",
       "      <td>Male</td>\n",
       "      <td>No</td>\n",
       "      <td>Sun</td>\n",
       "      <td>Dinner</td>\n",
       "      <td>3</td>\n",
       "    </tr>\n",
       "    <tr>\n",
       "      <th>3</th>\n",
       "      <td>23.68</td>\n",
       "      <td>3.31</td>\n",
       "      <td>Male</td>\n",
       "      <td>No</td>\n",
       "      <td>Sun</td>\n",
       "      <td>Dinner</td>\n",
       "      <td>2</td>\n",
       "    </tr>\n",
       "    <tr>\n",
       "      <th>4</th>\n",
       "      <td>24.59</td>\n",
       "      <td>3.61</td>\n",
       "      <td>Female</td>\n",
       "      <td>No</td>\n",
       "      <td>Sun</td>\n",
       "      <td>Dinner</td>\n",
       "      <td>4</td>\n",
       "    </tr>\n",
       "  </tbody>\n",
       "</table>\n",
       "</div>"
      ],
      "text/plain": [
       "   total_bill   tip     sex smoker  day    time  size\n",
       "0       16.99  1.01  Female     No  Sun  Dinner     2\n",
       "1       10.34  1.66    Male     No  Sun  Dinner     3\n",
       "2       21.01  3.50    Male     No  Sun  Dinner     3\n",
       "3       23.68  3.31    Male     No  Sun  Dinner     2\n",
       "4       24.59  3.61  Female     No  Sun  Dinner     4"
      ]
     },
     "execution_count": 15,
     "metadata": {},
     "output_type": "execute_result"
    }
   ],
   "source": [
    "\n",
    "# Load an example dataset\n",
    "tips = sns.load_dataset(\"tips\")\n",
    "tips.head()"
   ]
  },
  {
   "cell_type": "code",
   "execution_count": 16,
   "metadata": {},
   "outputs": [
    {
     "data": {
      "text/plain": [
       "(array([ 60847.,      0.,  12815.,      0.,  14122.,      0.,  40852.,\n",
       "             0., 187333., 816229.]),\n",
       " array([0. , 0.5, 1. , 1.5, 2. , 2.5, 3. , 3.5, 4. , 4.5, 5. ]),\n",
       " <BarContainer object of 10 artists>)"
      ]
     },
     "execution_count": 16,
     "metadata": {},
     "output_type": "execute_result"
    },
    {
     "data": {
      "image/png": "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",
      "text/plain": [
       "<Figure size 640x480 with 1 Axes>"
      ]
     },
     "metadata": {},
     "output_type": "display_data"
    }
   ],
   "source": [
    "# Afficharge de la distribution des scores\n",
    "\n",
    "plt.hist(raw_interactions[\"rating\"])"
   ]
  },
  {
   "cell_type": "markdown",
   "metadata": {},
   "source": [
    "On constate que la plus tart des repas sont noté avec le score 5\n"
   ]
  },
  {
   "cell_type": "code",
   "execution_count": null,
   "metadata": {},
   "outputs": [],
   "source": [
    "plt.figure(figsize=(8, 6))\n",
    "sns.histplot(raw_interactions['review'], bins=5, kde=True)\n",
    "plt.title('Distribution des Notes')\n",
    "plt.xlabel('Note')\n",
    "plt.ylabel('Fréquence')\n",
    "plt.show()"
   ]
  },
  {
   "cell_type": "markdown",
   "metadata": {},
   "source": [
    "2. Analyse de la distribution des données\n",
    "   Analyse de la distribution des données dans le Dataframe pp_users et interactions\n"
   ]
  },
  {
   "cell_type": "code",
   "execution_count": 1,
   "metadata": {},
   "outputs": [
    {
     "ename": "NameError",
     "evalue": "name 'sns' is not defined",
     "output_type": "error",
     "traceback": [
      "\u001b[1;31m---------------------------------------------------------------------------\u001b[0m",
      "\u001b[1;31mNameError\u001b[0m                                 Traceback (most recent call last)",
      "Cell \u001b[1;32mIn[1], line 1\u001b[0m\n\u001b[1;32m----> 1\u001b[0m \u001b[43msns\u001b[49m\u001b[38;5;241m.\u001b[39mrelplot(\n\u001b[0;32m      2\u001b[0m     data\u001b[38;5;241m=\u001b[39mraw_interactions,\n\u001b[0;32m      3\u001b[0m     x\u001b[38;5;241m=\u001b[39m\u001b[38;5;124m\"\u001b[39m\u001b[38;5;124mmois\u001b[39m\u001b[38;5;124m\"\u001b[39m, y\u001b[38;5;241m=\u001b[39m\u001b[38;5;124m\"\u001b[39m\u001b[38;5;124mreview\u001b[39m\u001b[38;5;124m\"\u001b[39m\n\u001b[0;32m      4\u001b[0m )\n",
      "\u001b[1;31mNameError\u001b[0m: name 'sns' is not defined"
     ]
    }
   ],
   "source": [
    "sns.relplot(\n",
    "    data=raw_interactions,\n",
    "    x=\"mois\", y=\"review\"\n",
    ")"
   ]
  },
  {
   "cell_type": "code",
   "execution_count": null,
   "metadata": {},
   "outputs": [],
   "source": []
  }
 ],
 "metadata": {
  "kernelspec": {
   "display_name": "tp-velSi6YZ-py3.11",
   "language": "python",
   "name": "python3"
  },
  "language_info": {
   "codemirror_mode": {
    "name": "ipython",
    "version": 3
   },
   "file_extension": ".py",
   "mimetype": "text/x-python",
   "name": "python",
   "nbconvert_exporter": "python",
   "pygments_lexer": "ipython3",
   "version": "3.11.5"
  }
 },
 "nbformat": 4,
 "nbformat_minor": 2
}
=======
{
 "cells": [
  {
   "cell_type": "code",
   "execution_count": 2,
   "metadata": {},
   "outputs": [],
   "source": [
    "import matplotlib.pyplot as plt\n",
    "import numpy as np\n",
    "import seaborn as sns\n",
    "import pandas as pd\n",
    "from utils.helper_data import load_dataset\n",
    "from dotenv import load_dotenv\n",
    "import os\n",
    "load_dotenv()"
   ]
  },
  {
   "cell_type": "code",
   "execution_count": 3,
   "metadata": {},
   "outputs": [
    {
     "data": {
      "text/plain": [
       "dict_keys(['interactions_test', 'interactions_train', 'interactions_validation', 'PP_recipes', 'PP_users', 'RAW_interactions', 'RAW_recipes'])"
      ]
     },
     "execution_count": 3,
     "metadata": {},
     "output_type": "execute_result"
    }
   ],
   "source": [
    "data = load_dataset(os.getenv(\"DIR_DATASET\"))\n",
    "data.keys()"
   ]
  },
  {
   "cell_type": "markdown",
   "metadata": {},
   "source": [
    "Chargement des dataset des interactions et des utilisateurs\n"
   ]
  },
  {
   "cell_type": "code",
   "execution_count": 4,
   "metadata": {},
   "outputs": [],
   "source": [
    "raw_interactions = data[\"RAW_interactions\"]\n",
    "pp_users = data[\"PP_users\"]"
   ]
  },
  {
   "cell_type": "code",
   "execution_count": 5,
   "metadata": {},
   "outputs": [
    {
     "data": {
      "text/html": [
       "<div>\n",
       "<style scoped>\n",
       "    .dataframe tbody tr th:only-of-type {\n",
       "        vertical-align: middle;\n",
       "    }\n",
       "\n",
       "    .dataframe tbody tr th {\n",
       "        vertical-align: top;\n",
       "    }\n",
       "\n",
       "    .dataframe thead th {\n",
       "        text-align: right;\n",
       "    }\n",
       "</style>\n",
       "<table border=\"1\" class=\"dataframe\">\n",
       "  <thead>\n",
       "    <tr style=\"text-align: right;\">\n",
       "      <th></th>\n",
       "      <th>user_id</th>\n",
       "      <th>recipe_id</th>\n",
       "      <th>rating</th>\n",
       "    </tr>\n",
       "  </thead>\n",
       "  <tbody>\n",
       "    <tr>\n",
       "      <th>count</th>\n",
       "      <td>1.132367e+06</td>\n",
       "      <td>1.132367e+06</td>\n",
       "      <td>1.132367e+06</td>\n",
       "    </tr>\n",
       "    <tr>\n",
       "      <th>mean</th>\n",
       "      <td>1.384291e+08</td>\n",
       "      <td>1.608972e+05</td>\n",
       "      <td>4.411016e+00</td>\n",
       "    </tr>\n",
       "    <tr>\n",
       "      <th>std</th>\n",
       "      <td>5.014269e+08</td>\n",
       "      <td>1.303987e+05</td>\n",
       "      <td>1.264752e+00</td>\n",
       "    </tr>\n",
       "    <tr>\n",
       "      <th>min</th>\n",
       "      <td>1.533000e+03</td>\n",
       "      <td>3.800000e+01</td>\n",
       "      <td>0.000000e+00</td>\n",
       "    </tr>\n",
       "    <tr>\n",
       "      <th>25%</th>\n",
       "      <td>1.354700e+05</td>\n",
       "      <td>5.425700e+04</td>\n",
       "      <td>4.000000e+00</td>\n",
       "    </tr>\n",
       "    <tr>\n",
       "      <th>50%</th>\n",
       "      <td>3.309370e+05</td>\n",
       "      <td>1.205470e+05</td>\n",
       "      <td>5.000000e+00</td>\n",
       "    </tr>\n",
       "    <tr>\n",
       "      <th>75%</th>\n",
       "      <td>8.045500e+05</td>\n",
       "      <td>2.438520e+05</td>\n",
       "      <td>5.000000e+00</td>\n",
       "    </tr>\n",
       "    <tr>\n",
       "      <th>max</th>\n",
       "      <td>2.002373e+09</td>\n",
       "      <td>5.377160e+05</td>\n",
       "      <td>5.000000e+00</td>\n",
       "    </tr>\n",
       "  </tbody>\n",
       "</table>\n",
       "</div>"
      ],
      "text/plain": [
       "            user_id     recipe_id        rating\n",
       "count  1.132367e+06  1.132367e+06  1.132367e+06\n",
       "mean   1.384291e+08  1.608972e+05  4.411016e+00\n",
       "std    5.014269e+08  1.303987e+05  1.264752e+00\n",
       "min    1.533000e+03  3.800000e+01  0.000000e+00\n",
       "25%    1.354700e+05  5.425700e+04  4.000000e+00\n",
       "50%    3.309370e+05  1.205470e+05  5.000000e+00\n",
       "75%    8.045500e+05  2.438520e+05  5.000000e+00\n",
       "max    2.002373e+09  5.377160e+05  5.000000e+00"
      ]
     },
     "execution_count": 5,
     "metadata": {},
     "output_type": "execute_result"
    }
   ],
   "source": [
    "raw_interactions.describe()"
   ]
  },
  {
   "cell_type": "code",
   "execution_count": 6,
   "metadata": {},
   "outputs": [
    {
     "data": {
      "text/html": [
       "<div>\n",
       "<style scoped>\n",
       "    .dataframe tbody tr th:only-of-type {\n",
       "        vertical-align: middle;\n",
       "    }\n",
       "\n",
       "    .dataframe tbody tr th {\n",
       "        vertical-align: top;\n",
       "    }\n",
       "\n",
       "    .dataframe thead th {\n",
       "        text-align: right;\n",
       "    }\n",
       "</style>\n",
       "<table border=\"1\" class=\"dataframe\">\n",
       "  <thead>\n",
       "    <tr style=\"text-align: right;\">\n",
       "      <th></th>\n",
       "      <th>u</th>\n",
       "      <th>n_items</th>\n",
       "      <th>n_ratings</th>\n",
       "    </tr>\n",
       "  </thead>\n",
       "  <tbody>\n",
       "    <tr>\n",
       "      <th>count</th>\n",
       "      <td>25076.000000</td>\n",
       "      <td>25076.000000</td>\n",
       "      <td>25076.000000</td>\n",
       "    </tr>\n",
       "    <tr>\n",
       "      <th>mean</th>\n",
       "      <td>12537.500000</td>\n",
       "      <td>27.871311</td>\n",
       "      <td>27.871311</td>\n",
       "    </tr>\n",
       "    <tr>\n",
       "      <th>std</th>\n",
       "      <td>7238.962011</td>\n",
       "      <td>122.729039</td>\n",
       "      <td>122.729039</td>\n",
       "    </tr>\n",
       "    <tr>\n",
       "      <th>min</th>\n",
       "      <td>0.000000</td>\n",
       "      <td>2.000000</td>\n",
       "      <td>2.000000</td>\n",
       "    </tr>\n",
       "    <tr>\n",
       "      <th>25%</th>\n",
       "      <td>6268.750000</td>\n",
       "      <td>3.000000</td>\n",
       "      <td>3.000000</td>\n",
       "    </tr>\n",
       "    <tr>\n",
       "      <th>50%</th>\n",
       "      <td>12537.500000</td>\n",
       "      <td>6.000000</td>\n",
       "      <td>6.000000</td>\n",
       "    </tr>\n",
       "    <tr>\n",
       "      <th>75%</th>\n",
       "      <td>18806.250000</td>\n",
       "      <td>16.000000</td>\n",
       "      <td>16.000000</td>\n",
       "    </tr>\n",
       "    <tr>\n",
       "      <th>max</th>\n",
       "      <td>25075.000000</td>\n",
       "      <td>6437.000000</td>\n",
       "      <td>6437.000000</td>\n",
       "    </tr>\n",
       "  </tbody>\n",
       "</table>\n",
       "</div>"
      ],
      "text/plain": [
       "                  u       n_items     n_ratings\n",
       "count  25076.000000  25076.000000  25076.000000\n",
       "mean   12537.500000     27.871311     27.871311\n",
       "std     7238.962011    122.729039    122.729039\n",
       "min        0.000000      2.000000      2.000000\n",
       "25%     6268.750000      3.000000      3.000000\n",
       "50%    12537.500000      6.000000      6.000000\n",
       "75%    18806.250000     16.000000     16.000000\n",
       "max    25075.000000   6437.000000   6437.000000"
      ]
     },
     "execution_count": 6,
     "metadata": {},
     "output_type": "execute_result"
    }
   ],
   "source": [
    "pp_users.describe()"
   ]
  },
  {
   "cell_type": "code",
   "execution_count": 7,
   "metadata": {},
   "outputs": [
    {
     "data": {
      "text/html": [
       "<div>\n",
       "<style scoped>\n",
       "    .dataframe tbody tr th:only-of-type {\n",
       "        vertical-align: middle;\n",
       "    }\n",
       "\n",
       "    .dataframe tbody tr th {\n",
       "        vertical-align: top;\n",
       "    }\n",
       "\n",
       "    .dataframe thead th {\n",
       "        text-align: right;\n",
       "    }\n",
       "</style>\n",
       "<table border=\"1\" class=\"dataframe\">\n",
       "  <thead>\n",
       "    <tr style=\"text-align: right;\">\n",
       "      <th></th>\n",
       "      <th>user_id</th>\n",
       "      <th>recipe_id</th>\n",
       "      <th>date</th>\n",
       "      <th>rating</th>\n",
       "      <th>review</th>\n",
       "    </tr>\n",
       "  </thead>\n",
       "  <tbody>\n",
       "    <tr>\n",
       "      <th>0</th>\n",
       "      <td>38094</td>\n",
       "      <td>40893</td>\n",
       "      <td>2003-02-17</td>\n",
       "      <td>4</td>\n",
       "      <td>Great with a salad. Cooked on top of stove for...</td>\n",
       "    </tr>\n",
       "    <tr>\n",
       "      <th>1</th>\n",
       "      <td>1293707</td>\n",
       "      <td>40893</td>\n",
       "      <td>2011-12-21</td>\n",
       "      <td>5</td>\n",
       "      <td>So simple, so delicious! Great for chilly fall...</td>\n",
       "    </tr>\n",
       "    <tr>\n",
       "      <th>2</th>\n",
       "      <td>8937</td>\n",
       "      <td>44394</td>\n",
       "      <td>2002-12-01</td>\n",
       "      <td>4</td>\n",
       "      <td>This worked very well and is EASY.  I used not...</td>\n",
       "    </tr>\n",
       "    <tr>\n",
       "      <th>3</th>\n",
       "      <td>126440</td>\n",
       "      <td>85009</td>\n",
       "      <td>2010-02-27</td>\n",
       "      <td>5</td>\n",
       "      <td>I made the Mexican topping and took it to bunk...</td>\n",
       "    </tr>\n",
       "    <tr>\n",
       "      <th>4</th>\n",
       "      <td>57222</td>\n",
       "      <td>85009</td>\n",
       "      <td>2011-10-01</td>\n",
       "      <td>5</td>\n",
       "      <td>Made the cheddar bacon topping, adding a sprin...</td>\n",
       "    </tr>\n",
       "  </tbody>\n",
       "</table>\n",
       "</div>"
      ],
      "text/plain": [
       "   user_id  recipe_id        date  rating  \\\n",
       "0    38094      40893  2003-02-17       4   \n",
       "1  1293707      40893  2011-12-21       5   \n",
       "2     8937      44394  2002-12-01       4   \n",
       "3   126440      85009  2010-02-27       5   \n",
       "4    57222      85009  2011-10-01       5   \n",
       "\n",
       "                                              review  \n",
       "0  Great with a salad. Cooked on top of stove for...  \n",
       "1  So simple, so delicious! Great for chilly fall...  \n",
       "2  This worked very well and is EASY.  I used not...  \n",
       "3  I made the Mexican topping and took it to bunk...  \n",
       "4  Made the cheddar bacon topping, adding a sprin...  "
      ]
     },
     "execution_count": 7,
     "metadata": {},
     "output_type": "execute_result"
    }
   ],
   "source": [
    "raw_interactions.head(5)"
   ]
  },
  {
   "cell_type": "code",
   "execution_count": 9,
   "metadata": {},
   "outputs": [
    {
     "data": {
      "text/html": [
       "<div>\n",
       "<style scoped>\n",
       "    .dataframe tbody tr th:only-of-type {\n",
       "        vertical-align: middle;\n",
       "    }\n",
       "\n",
       "    .dataframe tbody tr th {\n",
       "        vertical-align: top;\n",
       "    }\n",
       "\n",
       "    .dataframe thead th {\n",
       "        text-align: right;\n",
       "    }\n",
       "</style>\n",
       "<table border=\"1\" class=\"dataframe\">\n",
       "  <thead>\n",
       "    <tr style=\"text-align: right;\">\n",
       "      <th></th>\n",
       "      <th>u</th>\n",
       "      <th>techniques</th>\n",
       "      <th>items</th>\n",
       "      <th>n_items</th>\n",
       "      <th>ratings</th>\n",
       "      <th>n_ratings</th>\n",
       "    </tr>\n",
       "  </thead>\n",
       "  <tbody>\n",
       "    <tr>\n",
       "      <th>0</th>\n",
       "      <td>0</td>\n",
       "      <td>[8, 0, 0, 5, 6, 0, 0, 1, 0, 9, 1, 0, 0, 0, 1, ...</td>\n",
       "      <td>[1118, 27680, 32541, 137353, 16428, 28815, 658...</td>\n",
       "      <td>31</td>\n",
       "      <td>[5.0, 5.0, 5.0, 5.0, 5.0, 5.0, 5.0, 4.0, 4.0, ...</td>\n",
       "      <td>31</td>\n",
       "    </tr>\n",
       "    <tr>\n",
       "      <th>1</th>\n",
       "      <td>1</td>\n",
       "      <td>[11, 0, 0, 2, 12, 0, 0, 0, 0, 14, 5, 0, 0, 0, ...</td>\n",
       "      <td>[122140, 77036, 156817, 76957, 68818, 155600, ...</td>\n",
       "      <td>39</td>\n",
       "      <td>[5.0, 5.0, 5.0, 5.0, 5.0, 5.0, 5.0, 5.0, 5.0, ...</td>\n",
       "      <td>39</td>\n",
       "    </tr>\n",
       "    <tr>\n",
       "      <th>2</th>\n",
       "      <td>2</td>\n",
       "      <td>[13, 0, 0, 7, 5, 0, 1, 2, 1, 11, 0, 1, 0, 0, 1...</td>\n",
       "      <td>[168054, 87218, 35731, 1, 20475, 9039, 124834,...</td>\n",
       "      <td>27</td>\n",
       "      <td>[3.0, 4.0, 4.0, 4.0, 4.0, 4.0, 4.0, 4.0, 5.0, ...</td>\n",
       "      <td>27</td>\n",
       "    </tr>\n",
       "    <tr>\n",
       "      <th>3</th>\n",
       "      <td>3</td>\n",
       "      <td>[498, 13, 4, 218, 376, 3, 2, 33, 16, 591, 10, ...</td>\n",
       "      <td>[163193, 156352, 102888, 19914, 169438, 55772,...</td>\n",
       "      <td>1513</td>\n",
       "      <td>[5.0, 5.0, 5.0, 5.0, 4.0, 4.0, 5.0, 5.0, 5.0, ...</td>\n",
       "      <td>1513</td>\n",
       "    </tr>\n",
       "    <tr>\n",
       "      <th>4</th>\n",
       "      <td>4</td>\n",
       "      <td>[161, 1, 1, 86, 93, 0, 0, 11, 2, 141, 0, 16, 0...</td>\n",
       "      <td>[72857, 38652, 160427, 55772, 119999, 141777, ...</td>\n",
       "      <td>376</td>\n",
       "      <td>[5.0, 5.0, 5.0, 5.0, 4.0, 4.0, 5.0, 4.0, 5.0, ...</td>\n",
       "      <td>376</td>\n",
       "    </tr>\n",
       "  </tbody>\n",
       "</table>\n",
       "</div>"
      ],
      "text/plain": [
       "   u                                         techniques  \\\n",
       "0  0  [8, 0, 0, 5, 6, 0, 0, 1, 0, 9, 1, 0, 0, 0, 1, ...   \n",
       "1  1  [11, 0, 0, 2, 12, 0, 0, 0, 0, 14, 5, 0, 0, 0, ...   \n",
       "2  2  [13, 0, 0, 7, 5, 0, 1, 2, 1, 11, 0, 1, 0, 0, 1...   \n",
       "3  3  [498, 13, 4, 218, 376, 3, 2, 33, 16, 591, 10, ...   \n",
       "4  4  [161, 1, 1, 86, 93, 0, 0, 11, 2, 141, 0, 16, 0...   \n",
       "\n",
       "                                               items  n_items  \\\n",
       "0  [1118, 27680, 32541, 137353, 16428, 28815, 658...       31   \n",
       "1  [122140, 77036, 156817, 76957, 68818, 155600, ...       39   \n",
       "2  [168054, 87218, 35731, 1, 20475, 9039, 124834,...       27   \n",
       "3  [163193, 156352, 102888, 19914, 169438, 55772,...     1513   \n",
       "4  [72857, 38652, 160427, 55772, 119999, 141777, ...      376   \n",
       "\n",
       "                                             ratings  n_ratings  \n",
       "0  [5.0, 5.0, 5.0, 5.0, 5.0, 5.0, 5.0, 4.0, 4.0, ...         31  \n",
       "1  [5.0, 5.0, 5.0, 5.0, 5.0, 5.0, 5.0, 5.0, 5.0, ...         39  \n",
       "2  [3.0, 4.0, 4.0, 4.0, 4.0, 4.0, 4.0, 4.0, 5.0, ...         27  \n",
       "3  [5.0, 5.0, 5.0, 5.0, 4.0, 4.0, 5.0, 5.0, 5.0, ...       1513  \n",
       "4  [5.0, 5.0, 5.0, 5.0, 4.0, 4.0, 5.0, 4.0, 5.0, ...        376  "
      ]
     },
     "execution_count": 9,
     "metadata": {},
     "output_type": "execute_result"
    }
   ],
   "source": [
    "pp_users.head(5)"
   ]
  },
  {
   "cell_type": "markdown",
   "metadata": {},
   "source": [
    "1. Traitement des données\n",
    "   Traitement des valeurs manquantes dans le Dataframe pp_users et intracttions\n"
   ]
  },
  {
   "cell_type": "code",
   "execution_count": 10,
   "metadata": {},
   "outputs": [
    {
     "name": "stdout",
     "output_type": "stream",
     "text": [
      "Le nombre de lignes avec des valeurs manquantes dans le Dataframe pp_users est : 0\n",
      "Nombre de ligne avec les valeurs manquantes dans le Dataframe interactions 169\n"
     ]
    }
   ],
   "source": [
    "# Liste des lignes avec les valeurs null\n",
    "\n",
    "null_pp_users = pp_users[pp_users.isnull().any(axis=1)]\n",
    "null_interactions = raw_interactions[raw_interactions.isnull().any(axis=1)]\n",
    "print(\n",
    "    f\"Le nombre de lignes avec des valeurs manquantes dans le Dataframe pp_users est : {null_pp_users.shape[0]}\")\n",
    "print(\n",
    "    f\"Nombre de ligne avec les valeurs manquantes dans le Dataframe interactions {null_interactions.shape[0]}\")"
   ]
  },
  {
   "cell_type": "code",
   "execution_count": 11,
   "metadata": {},
   "outputs": [
    {
     "data": {
      "text/plain": [
       "u             0\n",
       "techniques    0\n",
       "items         0\n",
       "n_items       0\n",
       "ratings       0\n",
       "n_ratings     0\n",
       "dtype: int64"
      ]
     },
     "execution_count": 11,
     "metadata": {},
     "output_type": "execute_result"
    }
   ],
   "source": [
    "null_pp_users.isna().count()"
   ]
  },
  {
   "cell_type": "code",
   "execution_count": 12,
   "metadata": {},
   "outputs": [
    {
     "data": {
      "text/plain": [
       "user_id      169\n",
       "recipe_id    169\n",
       "date         169\n",
       "rating       169\n",
       "review       169\n",
       "dtype: int64"
      ]
     },
     "execution_count": 12,
     "metadata": {},
     "output_type": "execute_result"
    }
   ],
   "source": [
    "null_interactions.isna().count()"
   ]
  },
  {
   "cell_type": "code",
   "execution_count": 13,
   "metadata": {},
   "outputs": [
    {
     "data": {
      "text/plain": [
       "((1132198, 5), (25076, 6))"
      ]
     },
     "execution_count": 13,
     "metadata": {},
     "output_type": "execute_result"
    }
   ],
   "source": [
    "# Suppression des valeurs manquantes dans les DataFrame interactions et pp_users\n",
    "\n",
    "raw_interactions.dropna(inplace=True)\n",
    "pp_users.dropna(inplace=True)\n",
    "raw_interactions.shape, pp_users.shape"
   ]
  },
  {
   "cell_type": "code",
   "execution_count": 14,
   "metadata": {},
   "outputs": [
    {
     "data": {
      "text/html": [
       "<div>\n",
       "<style scoped>\n",
       "    .dataframe tbody tr th:only-of-type {\n",
       "        vertical-align: middle;\n",
       "    }\n",
       "\n",
       "    .dataframe tbody tr th {\n",
       "        vertical-align: top;\n",
       "    }\n",
       "\n",
       "    .dataframe thead th {\n",
       "        text-align: right;\n",
       "    }\n",
       "</style>\n",
       "<table border=\"1\" class=\"dataframe\">\n",
       "  <thead>\n",
       "    <tr style=\"text-align: right;\">\n",
       "      <th></th>\n",
       "      <th>user_id</th>\n",
       "      <th>recipe_id</th>\n",
       "      <th>date</th>\n",
       "      <th>rating</th>\n",
       "      <th>review</th>\n",
       "      <th>mois</th>\n",
       "      <th>jour</th>\n",
       "      <th>annee</th>\n",
       "    </tr>\n",
       "  </thead>\n",
       "  <tbody>\n",
       "    <tr>\n",
       "      <th>0</th>\n",
       "      <td>38094</td>\n",
       "      <td>40893</td>\n",
       "      <td>2003-02-17</td>\n",
       "      <td>4</td>\n",
       "      <td>Great with a salad. Cooked on top of stove for...</td>\n",
       "      <td>2</td>\n",
       "      <td>17</td>\n",
       "      <td>2003</td>\n",
       "    </tr>\n",
       "    <tr>\n",
       "      <th>1</th>\n",
       "      <td>1293707</td>\n",
       "      <td>40893</td>\n",
       "      <td>2011-12-21</td>\n",
       "      <td>5</td>\n",
       "      <td>So simple, so delicious! Great for chilly fall...</td>\n",
       "      <td>12</td>\n",
       "      <td>21</td>\n",
       "      <td>2011</td>\n",
       "    </tr>\n",
       "    <tr>\n",
       "      <th>2</th>\n",
       "      <td>8937</td>\n",
       "      <td>44394</td>\n",
       "      <td>2002-12-01</td>\n",
       "      <td>4</td>\n",
       "      <td>This worked very well and is EASY.  I used not...</td>\n",
       "      <td>12</td>\n",
       "      <td>1</td>\n",
       "      <td>2002</td>\n",
       "    </tr>\n",
       "    <tr>\n",
       "      <th>3</th>\n",
       "      <td>126440</td>\n",
       "      <td>85009</td>\n",
       "      <td>2010-02-27</td>\n",
       "      <td>5</td>\n",
       "      <td>I made the Mexican topping and took it to bunk...</td>\n",
       "      <td>2</td>\n",
       "      <td>27</td>\n",
       "      <td>2010</td>\n",
       "    </tr>\n",
       "    <tr>\n",
       "      <th>4</th>\n",
       "      <td>57222</td>\n",
       "      <td>85009</td>\n",
       "      <td>2011-10-01</td>\n",
       "      <td>5</td>\n",
       "      <td>Made the cheddar bacon topping, adding a sprin...</td>\n",
       "      <td>10</td>\n",
       "      <td>1</td>\n",
       "      <td>2011</td>\n",
       "    </tr>\n",
       "  </tbody>\n",
       "</table>\n",
       "</div>"
      ],
      "text/plain": [
       "   user_id  recipe_id       date  rating  \\\n",
       "0    38094      40893 2003-02-17       4   \n",
       "1  1293707      40893 2011-12-21       5   \n",
       "2     8937      44394 2002-12-01       4   \n",
       "3   126440      85009 2010-02-27       5   \n",
       "4    57222      85009 2011-10-01       5   \n",
       "\n",
       "                                              review  mois  jour  annee  \n",
       "0  Great with a salad. Cooked on top of stove for...     2    17   2003  \n",
       "1  So simple, so delicious! Great for chilly fall...    12    21   2011  \n",
       "2  This worked very well and is EASY.  I used not...    12     1   2002  \n",
       "3  I made the Mexican topping and took it to bunk...     2    27   2010  \n",
       "4  Made the cheddar bacon topping, adding a sprin...    10     1   2011  "
      ]
     },
     "execution_count": 14,
     "metadata": {},
     "output_type": "execute_result"
    }
   ],
   "source": [
    "raw_interactions[\"date\"] = pd.to_datetime(raw_interactions[\"date\"])\n",
    "# Création d'une colonne mois, jour et annee dans le dataframe\n",
    "\n",
    "raw_interactions[\"mois\"] = raw_interactions[\"date\"].dt.month\n",
    "raw_interactions[\"jour\"] = raw_interactions[\"date\"].dt.day\n",
    "raw_interactions[\"annee\"] = raw_interactions[\"date\"].dt.year\n",
    "raw_interactions.head()"
   ]
  },
  {
   "cell_type": "code",
   "execution_count": 15,
   "metadata": {},
   "outputs": [
    {
     "data": {
      "text/html": [
       "<div>\n",
       "<style scoped>\n",
       "    .dataframe tbody tr th:only-of-type {\n",
       "        vertical-align: middle;\n",
       "    }\n",
       "\n",
       "    .dataframe tbody tr th {\n",
       "        vertical-align: top;\n",
       "    }\n",
       "\n",
       "    .dataframe thead th {\n",
       "        text-align: right;\n",
       "    }\n",
       "</style>\n",
       "<table border=\"1\" class=\"dataframe\">\n",
       "  <thead>\n",
       "    <tr style=\"text-align: right;\">\n",
       "      <th></th>\n",
       "      <th>total_bill</th>\n",
       "      <th>tip</th>\n",
       "      <th>sex</th>\n",
       "      <th>smoker</th>\n",
       "      <th>day</th>\n",
       "      <th>time</th>\n",
       "      <th>size</th>\n",
       "    </tr>\n",
       "  </thead>\n",
       "  <tbody>\n",
       "    <tr>\n",
       "      <th>0</th>\n",
       "      <td>16.99</td>\n",
       "      <td>1.01</td>\n",
       "      <td>Female</td>\n",
       "      <td>No</td>\n",
       "      <td>Sun</td>\n",
       "      <td>Dinner</td>\n",
       "      <td>2</td>\n",
       "    </tr>\n",
       "    <tr>\n",
       "      <th>1</th>\n",
       "      <td>10.34</td>\n",
       "      <td>1.66</td>\n",
       "      <td>Male</td>\n",
       "      <td>No</td>\n",
       "      <td>Sun</td>\n",
       "      <td>Dinner</td>\n",
       "      <td>3</td>\n",
       "    </tr>\n",
       "    <tr>\n",
       "      <th>2</th>\n",
       "      <td>21.01</td>\n",
       "      <td>3.50</td>\n",
       "      <td>Male</td>\n",
       "      <td>No</td>\n",
       "      <td>Sun</td>\n",
       "      <td>Dinner</td>\n",
       "      <td>3</td>\n",
       "    </tr>\n",
       "    <tr>\n",
       "      <th>3</th>\n",
       "      <td>23.68</td>\n",
       "      <td>3.31</td>\n",
       "      <td>Male</td>\n",
       "      <td>No</td>\n",
       "      <td>Sun</td>\n",
       "      <td>Dinner</td>\n",
       "      <td>2</td>\n",
       "    </tr>\n",
       "    <tr>\n",
       "      <th>4</th>\n",
       "      <td>24.59</td>\n",
       "      <td>3.61</td>\n",
       "      <td>Female</td>\n",
       "      <td>No</td>\n",
       "      <td>Sun</td>\n",
       "      <td>Dinner</td>\n",
       "      <td>4</td>\n",
       "    </tr>\n",
       "  </tbody>\n",
       "</table>\n",
       "</div>"
      ],
      "text/plain": [
       "   total_bill   tip     sex smoker  day    time  size\n",
       "0       16.99  1.01  Female     No  Sun  Dinner     2\n",
       "1       10.34  1.66    Male     No  Sun  Dinner     3\n",
       "2       21.01  3.50    Male     No  Sun  Dinner     3\n",
       "3       23.68  3.31    Male     No  Sun  Dinner     2\n",
       "4       24.59  3.61  Female     No  Sun  Dinner     4"
      ]
     },
     "execution_count": 15,
     "metadata": {},
     "output_type": "execute_result"
    }
   ],
   "source": [
    "\n",
    "# Load an example dataset\n",
    "tips = sns.load_dataset(\"tips\")\n",
    "tips.head()"
   ]
  },
  {
   "cell_type": "code",
   "execution_count": 16,
   "metadata": {},
   "outputs": [
    {
     "data": {
      "text/plain": [
       "(array([ 60847.,      0.,  12815.,      0.,  14122.,      0.,  40852.,\n",
       "             0., 187333., 816229.]),\n",
       " array([0. , 0.5, 1. , 1.5, 2. , 2.5, 3. , 3.5, 4. , 4.5, 5. ]),\n",
       " <BarContainer object of 10 artists>)"
      ]
     },
     "execution_count": 16,
     "metadata": {},
     "output_type": "execute_result"
    },
    {
     "data": {
      "image/png": "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",
      "text/plain": [
       "<Figure size 640x480 with 1 Axes>"
      ]
     },
     "metadata": {},
     "output_type": "display_data"
    }
   ],
   "source": [
    "# Afficharge de la distribution des scores\n",
    "\n",
    "plt.hist(raw_interactions[\"rating\"])"
   ]
  },
  {
   "cell_type": "markdown",
   "metadata": {},
   "source": [
    "On constate que la plus tart des repas sont noté avec le score 5\n"
   ]
  },
  {
   "cell_type": "code",
   "execution_count": null,
   "metadata": {},
   "outputs": [],
   "source": [
    "plt.figure(figsize=(8, 6))\n",
    "sns.histplot(raw_interactions['review'], bins=5, kde=True)\n",
    "plt.title('Distribution des Notes')\n",
    "plt.xlabel('Note')\n",
    "plt.ylabel('Fréquence')\n",
    "plt.show()"
   ]
  },
  {
   "cell_type": "markdown",
   "metadata": {},
   "source": [
    "2. Analyse de la distribution des données\n",
    "   Analyse de la distribution des données dans le Dataframe pp_users et interactions\n"
   ]
  },
  {
   "cell_type": "code",
   "execution_count": 1,
   "metadata": {},
   "outputs": [
    {
     "ename": "NameError",
     "evalue": "name 'sns' is not defined",
     "output_type": "error",
     "traceback": [
      "\u001b[1;31m---------------------------------------------------------------------------\u001b[0m",
      "\u001b[1;31mNameError\u001b[0m                                 Traceback (most recent call last)",
      "Cell \u001b[1;32mIn[1], line 1\u001b[0m\n\u001b[1;32m----> 1\u001b[0m \u001b[43msns\u001b[49m\u001b[38;5;241m.\u001b[39mrelplot(\n\u001b[0;32m      2\u001b[0m     data\u001b[38;5;241m=\u001b[39mraw_interactions,\n\u001b[0;32m      3\u001b[0m     x\u001b[38;5;241m=\u001b[39m\u001b[38;5;124m\"\u001b[39m\u001b[38;5;124mmois\u001b[39m\u001b[38;5;124m\"\u001b[39m, y\u001b[38;5;241m=\u001b[39m\u001b[38;5;124m\"\u001b[39m\u001b[38;5;124mreview\u001b[39m\u001b[38;5;124m\"\u001b[39m\n\u001b[0;32m      4\u001b[0m )\n",
      "\u001b[1;31mNameError\u001b[0m: name 'sns' is not defined"
     ]
    }
   ],
   "source": [
    "sns.relplot(\n",
    "    data=raw_interactions,\n",
    "    x=\"mois\", y=\"review\"\n",
    ")"
   ]
  },
  {
   "cell_type": "code",
   "execution_count": null,
   "metadata": {},
   "outputs": [],
   "source": []
  }
 ],
 "metadata": {
  "kernelspec": {
   "display_name": "tp-velSi6YZ-py3.11",
   "language": "python",
   "name": "python3"
  },
  "language_info": {
   "codemirror_mode": {
    "name": "ipython",
    "version": 3
   },
   "file_extension": ".py",
   "mimetype": "text/x-python",
   "name": "python",
   "nbconvert_exporter": "python",
   "pygments_lexer": "ipython3",
   "version": "3.11.5"
  }
 },
 "nbformat": 4,
 "nbformat_minor": 2
}
>>>>>>> 601a7a15331ce1944996c25ea542c6a25da39240
