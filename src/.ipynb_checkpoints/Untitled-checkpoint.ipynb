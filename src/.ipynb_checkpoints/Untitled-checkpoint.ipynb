<<<<<<< HEAD
{
 "cells": [],
 "metadata": {},
 "nbformat": 4,
 "nbformat_minor": 5
}
=======
{
 "cells": [],
 "metadata": {},
 "nbformat": 4,
 "nbformat_minor": 5
}
>>>>>>> 601a7a15331ce1944996c25ea542c6a25da39240
